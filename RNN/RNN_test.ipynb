{
 "cells": [
  {
   "cell_type": "code",
   "execution_count": 10,
   "metadata": {},
   "outputs": [],
   "source": [
    "import numpy as np\n",
    "import tensorflow as tf\n",
    "from sklearn.model_selection import train_test_split\n",
    "from sklearn.utils import shuffle\n",
    "import matplotlib.pyplot as plt"
   ]
  },
  {
   "cell_type": "code",
   "execution_count": 24,
   "metadata": {},
   "outputs": [
    {
     "ename": "NameError",
     "evalue": "name '_file_' is not defined",
     "output_type": "error",
     "traceback": [
      "\u001b[0;31m---------------------------------------------------------------------------\u001b[0m",
      "\u001b[0;31mNameError\u001b[0m                                 Traceback (most recent call last)",
      "\u001b[0;32m<ipython-input-24-f6fa48ad297d>\u001b[0m in \u001b[0;36m<module>\u001b[0;34m()\u001b[0m\n\u001b[1;32m      2\u001b[0m \u001b[0;32mimport\u001b[0m \u001b[0mos\u001b[0m\u001b[0;34m\u001b[0m\u001b[0m\n\u001b[1;32m      3\u001b[0m \u001b[0;34m\u001b[0m\u001b[0m\n\u001b[0;32m----> 4\u001b[0;31m \u001b[0mLOG_DIR\u001b[0m \u001b[0;34m=\u001b[0m \u001b[0mos\u001b[0m\u001b[0;34m.\u001b[0m\u001b[0mpath\u001b[0m\u001b[0;34m.\u001b[0m\u001b[0mjoin\u001b[0m\u001b[0;34m(\u001b[0m\u001b[0mos\u001b[0m\u001b[0;34m.\u001b[0m\u001b[0mpath\u001b[0m\u001b[0;34m.\u001b[0m\u001b[0mdirname\u001b[0m\u001b[0;34m(\u001b[0m\u001b[0m_file_\u001b[0m\u001b[0;34m)\u001b[0m\u001b[0;34m,\u001b[0m \u001b[0;34m'log'\u001b[0m\u001b[0;34m)\u001b[0m\u001b[0;34m\u001b[0m\u001b[0m\n\u001b[0m\u001b[1;32m      5\u001b[0m \u001b[0;34m\u001b[0m\u001b[0m\n\u001b[1;32m      6\u001b[0m \u001b[0;32mif\u001b[0m \u001b[0mos\u001b[0m\u001b[0;34m.\u001b[0m\u001b[0mpath\u001b[0m\u001b[0;34m.\u001b[0m\u001b[0mexists\u001b[0m\u001b[0;34m(\u001b[0m\u001b[0mLOG_DIR\u001b[0m\u001b[0;34m)\u001b[0m \u001b[0;32mis\u001b[0m \u001b[0;32mFalse\u001b[0m\u001b[0;34m:\u001b[0m\u001b[0;34m\u001b[0m\u001b[0m\n",
      "\u001b[0;31mNameError\u001b[0m: name '_file_' is not defined"
     ]
    }
   ],
   "source": [
    "#tensorboard\n",
    "import os\n",
    "\n",
    "LOG_DIR = os.path.join(os.path.dirname(__file__), 'log')\n",
    "\n",
    "if os.path.exists(LOG_DIR) is False:\n",
    "    os.mkdir(LOG_DIR)"
   ]
  },
  {
   "cell_type": "code",
   "execution_count": 2,
   "metadata": {},
   "outputs": [],
   "source": [
    "np.random.seed(0)\n",
    "tf.set_random_seed(1234)\n",
    "\n",
    "def sin(x, T = 100):\n",
    "    return np.sin(2.0 * np.pi * x / T)\n",
    "\n",
    "def toy_problem(T = 100, ampl = 0.05):\n",
    "    x = np.arange(0, 2 * T + 1)\n",
    "    noise = ampl * np.random.uniform(low = -1.0, high = 1.0, size = len(x))\n",
    "    return sin(x) + noise"
   ]
  },
  {
   "cell_type": "code",
   "execution_count": 3,
   "metadata": {},
   "outputs": [],
   "source": [
    "T = 100\n",
    "f = toy_problem(T)\n",
    "\n",
    "#split data\n",
    "length_of_sequences = 2 * T\n",
    "maxlen = 25\n",
    "\n",
    "data = []\n",
    "target = []\n",
    "\n",
    "for i in range(0, length_of_sequences - maxlen + 1):\n",
    "    data.append(f[i: i + maxlen])\n",
    "    target.append(f[i + maxlen])"
   ]
  },
  {
   "cell_type": "code",
   "execution_count": 4,
   "metadata": {},
   "outputs": [],
   "source": [
    "X = np.array(data).reshape(len(data), maxlen, 1)\n",
    "Y = np.array(target).reshape(len(data), 1)\n",
    "\n",
    "#split data\n",
    "N_train = int(len(data) * 0.9)\n",
    "N_validation = len(data) - N_train\n",
    "\n",
    "X_train, X_validation, Y_train, Y_validation = train_test_split(X, Y, test_size=N_validation)"
   ]
  },
  {
   "cell_type": "code",
   "execution_count": 5,
   "metadata": {},
   "outputs": [],
   "source": [
    "def inference(x, n_batch, maxlen = None, n_hidden = None, n_out = None):\n",
    "    def weight_variable(shape):\n",
    "        initial = tf.truncated_normal(shape, stddev = 0.01)\n",
    "        return tf.Variable(initial)\n",
    "    \n",
    "    def bias_variable(shape):\n",
    "        initial = tf.zeros(shape, dtype = tf.float32)\n",
    "        return tf.Variable(initial)\n",
    "        \n",
    "    cell = tf.contrib.rnn.BasicRNNCell(n_hidden)\n",
    "    initial_state = cell.zero_state(n_batch, tf.float32)\n",
    "    \n",
    "    state = initial_state\n",
    "    outputs = []\n",
    "    with tf.variable_scope('RNN'):\n",
    "        for t in range(maxlen):\n",
    "            if t > 0:\n",
    "                tf.get_variable_scope().reuse_variables()\n",
    "            (cell_output, state) = cell(x[:, t, :], state)\n",
    "            outputs.append(cell_output)\n",
    "    \n",
    "    output = outputs[-1]\n",
    "    \n",
    "    V = weight_variable([n_hidden, n_out])\n",
    "    c = bias_variable([n_out])\n",
    "    y = tf.matmul(output, V) + c\n",
    "    \n",
    "    return y\n",
    "\n",
    "def loss(y, t):\n",
    "    mse = tf.reduce_mean(tf.square(y - t))\n",
    "    return mse\n",
    "\n",
    "def training(loss):\n",
    "    optimizer = tf.train.AdamOptimizer(learning_rate = 0.001, beta1 = 0.9, beta2 = 0.999)\n",
    "    \n",
    "    train_step = optimizer.minimize(loss)\n",
    "    return train_step"
   ]
  },
  {
   "cell_type": "code",
   "execution_count": 6,
   "metadata": {},
   "outputs": [],
   "source": [
    "class EarlyStopping():\n",
    "    def __init__(self, patience = 0, verbose = 0):\n",
    "        self._step = 0\n",
    "        self._loss = float('inf')\n",
    "        self.patience = patience\n",
    "        self.verbose = verbose\n",
    "        \n",
    "    def validate(self, loss):\n",
    "        if self._loss < loss:\n",
    "            self._step += 1\n",
    "            if self._step > self.patience:\n",
    "                if self.verbose:\n",
    "                    print('early stopping')\n",
    "                return True\n",
    "        else:\n",
    "            self._step = 0\n",
    "            self._loss = loss\n",
    "            \n",
    "        return False"
   ]
  },
  {
   "cell_type": "code",
   "execution_count": 8,
   "metadata": {},
   "outputs": [],
   "source": [
    "n_in = len(X[0][0])\n",
    "n_hidden = 20\n",
    "n_out = len(Y[0])\n",
    "\n",
    "x = tf.placeholder(tf.float32, shape = [None, maxlen, n_in])\n",
    "t  = tf.placeholder(tf.float32, shape = [None, n_out])\n",
    "n_batch = tf.placeholder(tf.int32, shape = [])\n",
    "\n",
    "y = inference(x, n_batch, maxlen = maxlen, n_hidden = n_hidden, n_out = n_out)\n",
    "loss = loss(y, t)\n",
    "train_step = training(loss)\n",
    "\n",
    "early_stopping = EarlyStopping(patience=10, verbose=1)\n",
    "history = {\n",
    "    'val_loss': []\n",
    "}"
   ]
  },
  {
   "cell_type": "code",
   "execution_count": 11,
   "metadata": {},
   "outputs": [
    {
     "name": "stdout",
     "output_type": "stream",
     "text": [
      "epoch: 0  valodation loss: 0.2239888\n",
      "epoch: 1  valodation loss: 0.10786649\n",
      "epoch: 2  valodation loss: 0.056832127\n",
      "epoch: 3  valodation loss: 0.038752005\n",
      "epoch: 4  valodation loss: 0.033403065\n",
      "epoch: 5  valodation loss: 0.028826578\n",
      "epoch: 6  valodation loss: 0.02140338\n",
      "epoch: 7  valodation loss: 0.0117071755\n",
      "epoch: 8  valodation loss: 0.007710258\n",
      "epoch: 9  valodation loss: 0.008689022\n",
      "epoch: 10  valodation loss: 0.009044429\n",
      "epoch: 11  valodation loss: 0.0068742237\n",
      "epoch: 12  valodation loss: 0.008400779\n",
      "epoch: 13  valodation loss: 0.009427298\n",
      "epoch: 14  valodation loss: 0.0051897573\n",
      "epoch: 15  valodation loss: 0.005854061\n",
      "epoch: 16  valodation loss: 0.0069052917\n",
      "epoch: 17  valodation loss: 0.005273175\n",
      "epoch: 18  valodation loss: 0.00414886\n",
      "epoch: 19  valodation loss: 0.0064274273\n",
      "epoch: 20  valodation loss: 0.0034218396\n",
      "epoch: 21  valodation loss: 0.003766617\n",
      "epoch: 22  valodation loss: 0.003186089\n",
      "epoch: 23  valodation loss: 0.003731235\n",
      "epoch: 24  valodation loss: 0.0035326676\n",
      "epoch: 25  valodation loss: 0.0035209449\n",
      "epoch: 26  valodation loss: 0.003951326\n",
      "epoch: 27  valodation loss: 0.0024749758\n",
      "epoch: 28  valodation loss: 0.002406746\n",
      "epoch: 29  valodation loss: 0.0031188158\n",
      "epoch: 30  valodation loss: 0.0033005592\n",
      "epoch: 31  valodation loss: 0.0020982723\n",
      "epoch: 32  valodation loss: 0.0022725905\n",
      "epoch: 33  valodation loss: 0.002187757\n",
      "epoch: 34  valodation loss: 0.0032260912\n",
      "epoch: 35  valodation loss: 0.0034295418\n",
      "epoch: 36  valodation loss: 0.0022720154\n",
      "epoch: 37  valodation loss: 0.0031621174\n",
      "epoch: 38  valodation loss: 0.0025703036\n",
      "epoch: 39  valodation loss: 0.0016590009\n",
      "epoch: 40  valodation loss: 0.0019775725\n",
      "epoch: 41  valodation loss: 0.0018809941\n",
      "epoch: 42  valodation loss: 0.0018816399\n",
      "epoch: 43  valodation loss: 0.0017840846\n",
      "epoch: 44  valodation loss: 0.0022806665\n",
      "epoch: 45  valodation loss: 0.0013619572\n",
      "epoch: 46  valodation loss: 0.0017010536\n",
      "epoch: 47  valodation loss: 0.0014542411\n",
      "epoch: 48  valodation loss: 0.0015865298\n",
      "epoch: 49  valodation loss: 0.0014201041\n",
      "epoch: 50  valodation loss: 0.0016263586\n",
      "epoch: 51  valodation loss: 0.001323495\n",
      "epoch: 52  valodation loss: 0.0015707046\n",
      "epoch: 53  valodation loss: 0.0019627372\n",
      "epoch: 54  valodation loss: 0.0016289738\n",
      "epoch: 55  valodation loss: 0.0012816096\n",
      "epoch: 56  valodation loss: 0.0013563274\n",
      "epoch: 57  valodation loss: 0.0018032717\n",
      "epoch: 58  valodation loss: 0.0018780255\n",
      "epoch: 59  valodation loss: 0.0024950719\n",
      "epoch: 60  valodation loss: 0.0016551077\n",
      "epoch: 61  valodation loss: 0.0017120462\n",
      "epoch: 62  valodation loss: 0.0014849555\n",
      "epoch: 63  valodation loss: 0.0025344677\n",
      "epoch: 64  valodation loss: 0.0027003265\n",
      "epoch: 65  valodation loss: 0.0015652071\n",
      "epoch: 66  valodation loss: 0.001648214\n",
      "early stopping\n"
     ]
    }
   ],
   "source": [
    "epochs = 500\n",
    "batch_size = 10\n",
    "\n",
    "init = tf.global_variables_initializer()\n",
    "sess = tf.Session()\n",
    "tf.summary.FileWriter(LOG_DIR, sess.graph) #tensorboard\n",
    "sess.run(init)\n",
    "\n",
    "n_batches = N_train // batch_size\n",
    "\n",
    "for epoch in range(epochs):\n",
    "    X_, Y_ = shuffle(X_train, Y_train)\n",
    "    \n",
    "    for i in range(n_batches):\n",
    "        start = i * batch_size\n",
    "        end = start + batch_size\n",
    "        \n",
    "        sess.run(train_step, feed_dict = {\n",
    "            x: X_[start:end],\n",
    "            t: Y_[start:end],\n",
    "            n_batch: batch_size\n",
    "        })\n",
    "        \n",
    "    val_loss = loss.eval(session = sess, feed_dict = {\n",
    "        x: X_validation,\n",
    "        t: Y_validation,\n",
    "        n_batch: N_validation\n",
    "    })\n",
    "    \n",
    "    history['val_loss'].append(val_loss)\n",
    "    print('epoch:', epoch, ' valodation loss:', val_loss)\n",
    "    \n",
    "    if early_stopping.validate(val_loss):\n",
    "        break"
   ]
  },
  {
   "cell_type": "code",
   "execution_count": 16,
   "metadata": {},
   "outputs": [
    {
     "data": {
      "image/png": "[encoded data removed]",
      "text/plain": [
       "<matplotlib.figure.Figure at 0x7f356dcc5550>"
      ]
     },
     "metadata": {},
     "output_type": "display_data"
    }
   ],
   "source": [
    "plt.rc('font', family = 'serif')\n",
    "fig = plt.figure()\n",
    "\n",
    "plt.plot(range(67), history['val_loss'], label = 'loss', color = 'black')\n",
    "\n",
    "plt.xlabel('epochs')\n",
    "plt.ylabel('validation loss')\n",
    "\n",
    "plt.show()"
   ]
  },
  {
   "cell_type": "code",
   "execution_count": 20,
   "metadata": {},
   "outputs": [],
   "source": [
    "truncate = maxlen\n",
    "Z = X[:1]\n",
    "original = [f[i] for i in range(maxlen)]\n",
    "predicted = [None for i in range(maxlen)]\n",
    "\n",
    "for i in range(length_of_sequences - maxlen + 1):\n",
    "    z_ = Z[-1:]\n",
    "    y_ = y.eval(session = sess, feed_dict = {\n",
    "        x: Z[-1:],\n",
    "        n_batch: 1\n",
    "    })\n",
    "    \n",
    "    sequence_ = np.concatenate(\n",
    "    (z_.reshape(maxlen, n_in)[1:], y_), axis = 0).reshape(1, maxlen, n_in)\n",
    "    Z = np.append(Z, sequence_, axis = 0)\n",
    "    predicted.append(y_.reshape(-1))"
   ]
  },
  {
   "cell_type": "code",
   "execution_count": 22,
   "metadata": {},
   "outputs": [
    {
     "data": {
      "image/png": "[encoded data removed]",
      "text/plain": [
       "<matplotlib.figure.Figure at 0x7f356dd0c6d8>"
      ]
     },
     "metadata": {},
     "output_type": "display_data"
    }
   ],
   "source": [
    "plt.rc('font', family = 'serif')\n",
    "plt.figure()\n",
    "plt.plot(toy_problem(T, ampl = 0), linestyle = 'dotted', color = '#aaaaaa')\n",
    "plt.plot(original, linestyle = 'dashed', color = 'black')\n",
    "plt.plot(predicted, color = 'black')\n",
    "plt.show()"
   ]
  },
  {
   "cell_type": "code",
   "execution_count": null,
   "metadata": {},
   "outputs": [],
   "source": []
  }
 ],
 "metadata": {
  "kernelspec": {
   "display_name": "Python 3",
   "language": "python",
   "name": "python3"
  },
  "language_info": {
   "codemirror_mode": {
    "name": "ipython",
    "version": 3
   },
   "file_extension": ".py",
   "mimetype": "text/x-python",
   "name": "python",
   "nbconvert_exporter": "python",
   "pygments_lexer": "ipython3",
   "version": "3.6.4"
  }
 },
 "nbformat": 4,
 "nbformat_minor": 2
}
