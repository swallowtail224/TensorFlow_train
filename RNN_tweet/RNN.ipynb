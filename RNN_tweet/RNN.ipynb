{
 "cells": [
  {
   "cell_type": "code",
   "execution_count": 1,
   "metadata": {},
   "outputs": [],
   "source": [
    "import pandas as pd\n",
    "import numpy as np"
   ]
  },
  {
   "cell_type": "code",
   "execution_count": 3,
   "metadata": {},
   "outputs": [
    {
     "name": "stdout",
     "output_type": "stream",
     "text": [
      "145203\n"
     ]
    }
   ],
   "source": [
    "csv_input = pd.read_csv(filepath_or_buffer=\"t_retweet.csv\", encoding=\"utf_8\", sep=\",\")\n",
    "print(csv_input.size)"
   ]
  },
  {
   "cell_type": "code",
   "execution_count": 4,
   "metadata": {},
   "outputs": [
    {
     "name": "stdout",
     "output_type": "stream",
     "text": [
      "            tweetID  retweet                 date\n",
      "48398  1.081755e+18        0  2019-01-06 00:00:00\n",
      "48399  1.081771e+18        0  2019-01-06 00:00:00\n",
      "48400           NaN     9777                  NaN\n"
     ]
    }
   ],
   "source": [
    "print(csv_input.tail(3))"
   ]
  },
  {
   "cell_type": "code",
   "execution_count": 5,
   "metadata": {},
   "outputs": [
    {
     "name": "stdout",
     "output_type": "stream",
     "text": [
      "48401\n"
     ]
    }
   ],
   "source": [
    "print(len(csv_input))"
   ]
  },
  {
   "cell_type": "code",
   "execution_count": 4,
   "metadata": {},
   "outputs": [],
   "source": [
    "retweet = csv_input.query('retweet == 1')"
   ]
  },
  {
   "cell_type": "code",
   "execution_count": 5,
   "metadata": {},
   "outputs": [],
   "source": [
    "n_retweet = csv_input.query('retweet == 0')"
   ]
  },
  {
   "cell_type": "code",
   "execution_count": 23,
   "metadata": {},
   "outputs": [
    {
     "name": "stdout",
     "output_type": "stream",
     "text": [
      "tweetID    float64\n",
      "retweet      int64\n",
      "date        object\n",
      "dtype: object\n"
     ]
    }
   ],
   "source": [
    "print(retweet.dtypes)"
   ]
  },
  {
   "cell_type": "code",
   "execution_count": 14,
   "metadata": {},
   "outputs": [
    {
     "name": "stdout",
     "output_type": "stream",
     "text": [
      "38623\n"
     ]
    }
   ],
   "source": [
    "print(len(n_retweet))"
   ]
  },
  {
   "cell_type": "code",
   "execution_count": 6,
   "metadata": {},
   "outputs": [],
   "source": [
    "tweet_input = pd.read_csv(filepath_or_buffer=\"t_tweet_data.csv\", encoding=\"utf_8\", sep=\",\")"
   ]
  },
  {
   "cell_type": "code",
   "execution_count": 7,
   "metadata": {},
   "outputs": [
    {
     "name": "stdout",
     "output_type": "stream",
     "text": [
      "tweetID       float64\n",
      "date           object\n",
      "tweet          object\n",
      "Unnamed: 3     object\n",
      "Unnamed: 4     object\n",
      "Unnamed: 5     object\n",
      "Unnamed: 6     object\n",
      "dtype: object\n"
     ]
    }
   ],
   "source": [
    "print(tweet_input.dtypes)"
   ]
  },
  {
   "cell_type": "code",
   "execution_count": 8,
   "metadata": {
    "scrolled": false
   },
   "outputs": [
    {
     "data": {
      "text/plain": [
       "0        7.111280e+17\n",
       "1        7.113160e+17\n",
       "2        7.113431e+17\n",
       "3        7.113729e+17\n",
       "4        7.114051e+17\n",
       "5        7.114589e+17\n",
       "6        7.115279e+17\n",
       "7        7.115409e+17\n",
       "8        7.116799e+17\n",
       "9        7.117198e+17\n",
       "10       7.117257e+17\n",
       "11       7.117562e+17\n",
       "12       7.117613e+17\n",
       "13       7.117681e+17\n",
       "14       7.117692e+17\n",
       "15       7.117693e+17\n",
       "16       7.117696e+17\n",
       "17       7.117752e+17\n",
       "18       7.117819e+17\n",
       "19       7.117910e+17\n",
       "20       7.118004e+17\n",
       "21       7.120597e+17\n",
       "22       7.120679e+17\n",
       "23       7.120697e+17\n",
       "24       7.120746e+17\n",
       "25       7.120808e+17\n",
       "26       7.121094e+17\n",
       "27       7.121112e+17\n",
       "28       7.121237e+17\n",
       "29       7.121311e+17\n",
       "             ...     \n",
       "48842    1.081392e+18\n",
       "48843    1.081425e+18\n",
       "48844    1.081438e+18\n",
       "48845    1.081439e+18\n",
       "48846    1.081440e+18\n",
       "48847    1.081442e+18\n",
       "48848    1.081454e+18\n",
       "48849    1.081473e+18\n",
       "48850    1.081473e+18\n",
       "48851    1.081473e+18\n",
       "48852    1.081474e+18\n",
       "48853    1.081474e+18\n",
       "48854    1.081474e+18\n",
       "48855    1.081474e+18\n",
       "48856    1.081487e+18\n",
       "48857    1.081513e+18\n",
       "48858    1.081517e+18\n",
       "48859    1.081536e+18\n",
       "48860    1.081575e+18\n",
       "48861    1.081696e+18\n",
       "48862    1.081715e+18\n",
       "48863    1.081725e+18\n",
       "48864    1.081745e+18\n",
       "48865    1.081745e+18\n",
       "48866    1.081745e+18\n",
       "48867    1.081745e+18\n",
       "48868    1.081747e+18\n",
       "48869    1.081749e+18\n",
       "48870    1.081755e+18\n",
       "48871    1.081771e+18\n",
       "Name: tweetID, Length: 48872, dtype: float64"
      ]
     },
     "execution_count": 8,
     "metadata": {},
     "output_type": "execute_result"
    }
   ],
   "source": [
    "tweet_input[\"tweetID\"].astype(np.float64)"
   ]
  },
  {
   "cell_type": "code",
   "execution_count": 24,
   "metadata": {},
   "outputs": [],
   "source": [
    "#retweetしたデータ\n",
    "r_data = pd.merge(retweet, tweet_input, how=\"inner\", on=\"tweetID\")"
   ]
  },
  {
   "cell_type": "code",
   "execution_count": 14,
   "metadata": {},
   "outputs": [],
   "source": [
    "#retweetしなかったデータ\n",
    "nr_data = pd.merge(n_retweet, tweet_input, how=\"inner\", on=\"tweetID\")"
   ]
  },
  {
   "cell_type": "code",
   "execution_count": 17,
   "metadata": {},
   "outputs": [
    {
     "name": "stdout",
     "output_type": "stream",
     "text": [
      "38622\n"
     ]
    }
   ],
   "source": [
    "print(len(nr_data[\"Unnamed: 3\"]))"
   ]
  },
  {
   "cell_type": "code",
   "execution_count": 25,
   "metadata": {
    "scrolled": true
   },
   "outputs": [
    {
     "name": "stdout",
     "output_type": "stream",
     "text": [
      "tweetID       float64\n",
      "retweet         int64\n",
      "date_x         object\n",
      "date_y         object\n",
      "tweet          object\n",
      "Unnamed: 3     object\n",
      "Unnamed: 4     object\n",
      "Unnamed: 5     object\n",
      "Unnamed: 6     object\n",
      "dtype: object\n"
     ]
    }
   ],
   "source": [
    "print(r_data.dtypes)"
   ]
  },
  {
   "cell_type": "code",
   "execution_count": 19,
   "metadata": {},
   "outputs": [],
   "source": [
    "r_data[\"tweeet2\"] = r_data[\"tweet\"] + r_data['Unnamed: 3'] + r_data['Unnamed: 4'] + r_data['Unnamed: 5'] + r_data['Unnamed: 6']"
   ]
  },
  {
   "cell_type": "code",
   "execution_count": 20,
   "metadata": {},
   "outputs": [
    {
     "name": "stdout",
     "output_type": "stream",
     "text": [
      "           tweetID  retweet               date_x               date_y  \\\n",
      "9774  1.081474e+18        1  2019-01-05 00:00:00  2019-01-05 00:00:00   \n",
      "9775  1.081487e+18        1  2019-01-05 00:00:00  2019-01-05 00:00:00   \n",
      "9776  1.081725e+18        1  2019-01-06 00:00:00  2019-01-06 00:00:00   \n",
      "\n",
      "                                                  tweet Unnamed: 3 Unnamed: 4  \\\n",
      "9774  ＜祝成人！ドリンク1杯無料！＞\\n1/12（土）〜14（日）の期間、今年新成人を迎える方にフ...        NaN        NaN   \n",
      "9775  アニメ映画  の原案者であり、特徴ある猫のキャラクターと独特のファンタジーで知られる漫画家 ...        NaN        NaN   \n",
      "9776                                博物館の妖怪切り絵がすごい件\\n           NaN        NaN   \n",
      "\n",
      "     Unnamed: 5 Unnamed: 6 tweeet2  \n",
      "9774        NaN        NaN     NaN  \n",
      "9775        NaN        NaN     NaN  \n",
      "9776        NaN        NaN     NaN  \n"
     ]
    }
   ],
   "source": [
    "print(r_data.tail(3))"
   ]
  },
  {
   "cell_type": "code",
   "execution_count": 21,
   "metadata": {},
   "outputs": [],
   "source": [
    "r_data.drop(['Unnamed: 3', 'Unnamed: 4','Unnamed: 5', 'Unnamed: 6'], axis=1, inplace=True)"
   ]
  },
  {
   "cell_type": "code",
   "execution_count": 23,
   "metadata": {},
   "outputs": [
    {
     "name": "stdout",
     "output_type": "stream",
     "text": [
      "        tweetID  retweet               date_x               date_y  \\\n",
      "0  7.113431e+17        1  2016-03-20 00:00:00  2016-03-20 00:00:00   \n",
      "1  7.124711e+17        1  2016-03-23 00:00:00  2016-03-23 00:00:00   \n",
      "2  7.223425e+17        1  2016-04-19 00:00:00  2016-04-19 00:00:00   \n",
      "\n",
      "                                               tweet tweeet2  \n",
      "0                           本日も遠野風の丘軒下市、よろしくお願いします。      NaN  \n",
      "1  【遠野山ぶどうワイン2015】本日より発売開始です！！駅前売店でも入荷しております♪数量限定...     NaN  \n",
      "2  骨寺荘園室より\\n【世界遺産 拡張資産 巡回バス】のお知らせ\\n ４月23日（土）に世界遺産...     NaN  \n"
     ]
    }
   ],
   "source": [
    "print(r_data.head(3))"
   ]
  },
  {
   "cell_type": "code",
   "execution_count": 27,
   "metadata": {},
   "outputs": [],
   "source": [
    "r_data['tweet2'] = r_data[['tweet', 'Unnamed: 3', 'Unnamed: 4', 'Unnamed: 5', 'Unnamed: 6']].apply(lambda x: '{}_{}_{}'.format(x[0], x[1], x[2],x[3],x[4]), axis=1)"
   ]
  },
  {
   "cell_type": "code",
   "execution_count": 31,
   "metadata": {},
   "outputs": [],
   "source": [
    "nr_data['tweet2'] = nr_data[['tweet', 'Unnamed: 3', 'Unnamed: 4', 'Unnamed: 5', 'Unnamed: 6']].apply(lambda x: '{}_{}_{}'.format(x[0], x[1], x[2],x[3],x[4]), axis=1)"
   ]
  },
  {
   "cell_type": "code",
   "execution_count": 32,
   "metadata": {},
   "outputs": [
    {
     "name": "stdout",
     "output_type": "stream",
     "text": [
      "        tweetID  retweet               date_x               date_y  \\\n",
      "0  7.111280e+17        0  2016-03-19 00:00:00  2016-03-19 00:00:00   \n",
      "1  7.113160e+17        0  2016-03-20 00:00:00  2016-03-20 00:00:00   \n",
      "2  7.113729e+17        0  2016-03-20 00:00:00  2016-03-20 00:00:00   \n",
      "\n",
      "                                               tweet Unnamed: 3 Unnamed: 4  \\\n",
      "0  きょうは来てくれてありがとっ♡\\nお買い物してくれてありがとっ♡\\n21日は陸前高田にねば〜...        NaN        NaN   \n",
      "1  みんなゆめ☆も〜にん☆彡\\n\\nかさ上げに\\n思いはひとつ\\n笑顔かなっ♪\\n       ...        NaN        NaN   \n",
      "2  【遠野風の丘軒下市】ラム肉まんが通常220円のところ200円、2つで300円で販売しています...        NaN        NaN   \n",
      "\n",
      "  Unnamed: 5 Unnamed: 6                                             tweet2  \n",
      "0        NaN        NaN  きょうは来てくれてありがとっ♡\\nお買い物してくれてありがとっ♡\\n21日は陸前高田にねば〜...  \n",
      "1        NaN        NaN  みんなゆめ☆も〜にん☆彡\\n\\nかさ上げに\\n思いはひとつ\\n笑顔かなっ♪\\n       ...  \n",
      "2        NaN        NaN  【遠野風の丘軒下市】ラム肉まんが通常220円のところ200円、2つで300円で販売しています...  \n"
     ]
    }
   ],
   "source": [
    "print(nr_data.head(3))"
   ]
  },
  {
   "cell_type": "code",
   "execution_count": 29,
   "metadata": {},
   "outputs": [],
   "source": [
    "r_data.drop(['Unnamed: 3', 'Unnamed: 4','Unnamed: 5', 'Unnamed: 6'], axis=1, inplace=True)"
   ]
  },
  {
   "cell_type": "code",
   "execution_count": 30,
   "metadata": {},
   "outputs": [
    {
     "name": "stdout",
     "output_type": "stream",
     "text": [
      "        tweetID  retweet               date_x               date_y  \\\n",
      "0  7.113431e+17        1  2016-03-20 00:00:00  2016-03-20 00:00:00   \n",
      "1  7.124711e+17        1  2016-03-23 00:00:00  2016-03-23 00:00:00   \n",
      "2  7.223425e+17        1  2016-04-19 00:00:00  2016-04-19 00:00:00   \n",
      "\n",
      "                                               tweet  \\\n",
      "0                           本日も遠野風の丘軒下市、よろしくお願いします。    \n",
      "1  【遠野山ぶどうワイン2015】本日より発売開始です！！駅前売店でも入荷しております♪数量限定...   \n",
      "2  骨寺荘園室より\\n【世界遺産 拡張資産 巡回バス】のお知らせ\\n ４月23日（土）に世界遺産...   \n",
      "\n",
      "                                              tweet2  \n",
      "0                   本日も遠野風の丘軒下市、よろしくお願いします。 _nan_nan  \n",
      "1  【遠野山ぶどうワイン2015】本日より発売開始です！！駅前売店でも入荷しております♪数量限定...  \n",
      "2  骨寺荘園室より\\n【世界遺産 拡張資産 巡回バス】のお知らせ\\n ４月23日（土）に世界遺産...  \n"
     ]
    }
   ],
   "source": [
    "print(r_data.head(3))"
   ]
  },
  {
   "cell_type": "code",
   "execution_count": 3,
   "metadata": {},
   "outputs": [
    {
     "data": {
      "text/plain": [
       "'8月3日\\tハチガツミッカ\\t8月3日\\t名詞-固有名詞-一般\\t\\t\\nに\\tニ\\tに\\t助詞-格助詞-一般\\t\\t\\n放送\\tホウソウ\\t放送\\t名詞-サ変接続\\t\\t\\nさ\\tサ\\tする\\t動詞-自立\\tサ変・スル\\t未然レル接続\\nれ\\tレ\\tれる\\t動詞-接尾\\t一段\\t連用形\\nた\\tタ\\tた\\t助動詞\\t特殊・タ\\t基本形\\n「\\t「\\t「\\t記号-括弧開\\t\\t\\n中居正広の金曜日のスマイルたちへ\\tナカイマサヒロノキンヨウビノスマイルタチヘ\\t中居正広の金曜日のスマイルたちへ\\t名詞-固有名詞-一般\\t\\t\\n」\\t」\\t」\\t記号-括弧閉\\t\\t\\nEOS\\n'"
      ]
     },
     "execution_count": 3,
     "metadata": {},
     "output_type": "execute_result"
    }
   ],
   "source": [
    "import MeCab\n",
    "\n",
    "tagger = MeCab.Tagger(r'-Ochasen -d G:\\neologd')\n",
    "sample = \"8月3日に放送された「中居正広の金曜日のスマイルたちへ」\"\n",
    "tagger.parse(sample)"
   ]
  },
  {
   "cell_type": "code",
   "execution_count": null,
   "metadata": {},
   "outputs": [],
   "source": []
  }
 ],
 "metadata": {
  "kernelspec": {
   "display_name": "Python 3",
   "language": "python",
   "name": "python3"
  },
  "language_info": {
   "codemirror_mode": {
    "name": "ipython",
    "version": 3
   },
   "file_extension": ".py",
   "mimetype": "text/x-python",
   "name": "python",
   "nbconvert_exporter": "python",
   "pygments_lexer": "ipython3",
   "version": "3.6.7"
  }
 },
 "nbformat": 4,
 "nbformat_minor": 2
}
