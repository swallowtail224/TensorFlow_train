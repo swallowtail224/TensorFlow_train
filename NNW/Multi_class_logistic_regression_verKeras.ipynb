{
 "cells": [
  {
   "cell_type": "code",
   "execution_count": 2,
   "metadata": {},
   "outputs": [],
   "source": [
    "from sklearn.utils import shuffle\n",
    "import numpy as np\n",
    "import tensorflow as tf\n",
    "from keras.models import Sequential\n",
    "from keras.layers import Dense, Activation\n",
    "from keras.optimizers import SGD"
   ]
  },
  {
   "cell_type": "code",
   "execution_count": 3,
   "metadata": {},
   "outputs": [],
   "source": [
    "M = 2 #input dimension\n",
    "K = 3 #class size\n",
    "n = 100 #number of data\n",
    "N = n * K #all data"
   ]
  },
  {
   "cell_type": "code",
   "execution_count": 4,
   "metadata": {},
   "outputs": [],
   "source": [
    "X1 = np.random.randn(n, M) + np.array([0, 10])\n",
    "X2 = np.random.randn(n, M) + np.array([5, 5])\n",
    "X3 = np.random.randn(n, M) + np.array([10, 0])\n",
    "Y1 = np.array([[1, 0, 0] for i in range(n)])\n",
    "Y2 = np.array([[0, 1, 0] for i in range(n)])\n",
    "Y3 = np.array([[0, 0, 1] for i in range(n)])\n",
    "\n",
    "X = np.concatenate((X1, X2, X3), axis = 0)\n",
    "Y = np.concatenate((Y1, Y2, Y3), axis = 0)"
   ]
  },
  {
   "cell_type": "code",
   "execution_count": 6,
   "metadata": {},
   "outputs": [],
   "source": [
    "model = Sequential()\n",
    "model.add(Dense(input_dim=M, units = K))\n",
    "model.add(Activation('softmax'))\n",
    "\n",
    "model.compile(loss='categorical_crossentropy', optimizer=SGD(lr=0.1))"
   ]
  },
  {
   "cell_type": "code",
   "execution_count": 7,
   "metadata": {},
   "outputs": [
    {
     "name": "stdout",
     "output_type": "stream",
     "text": [
      "Epoch 1/20\n",
      "300/300 [==============================] - 9s 31ms/step - loss: 1.2605\n",
      "Epoch 2/20\n",
      "300/300 [==============================] - 0s 43us/step - loss: 0.2301\n",
      "Epoch 3/20\n",
      "300/300 [==============================] - 0s 50us/step - loss: 0.1517\n",
      "Epoch 4/20\n",
      "300/300 [==============================] - 0s 43us/step - loss: 0.1202\n",
      "Epoch 5/20\n",
      "300/300 [==============================] - 0s 47us/step - loss: 0.0975\n",
      "Epoch 6/20\n",
      "300/300 [==============================] - 0s 50us/step - loss: 0.0840\n",
      "Epoch 7/20\n",
      "300/300 [==============================] - 0s 50us/step - loss: 0.0748\n",
      "Epoch 8/20\n",
      "300/300 [==============================] - 0s 53us/step - loss: 0.0663\n",
      "Epoch 9/20\n",
      "300/300 [==============================] - 0s 50us/step - loss: 0.0605\n",
      "Epoch 10/20\n",
      "300/300 [==============================] - 0s 46us/step - loss: 0.0556\n",
      "Epoch 11/20\n",
      "300/300 [==============================] - 0s 37us/step - loss: 0.0513\n",
      "Epoch 12/20\n",
      "300/300 [==============================] - 0s 40us/step - loss: 0.0483\n",
      "Epoch 13/20\n",
      "300/300 [==============================] - 0s 37us/step - loss: 0.0452\n",
      "Epoch 14/20\n",
      "300/300 [==============================] - 0s 43us/step - loss: 0.0425\n",
      "Epoch 15/20\n",
      "300/300 [==============================] - 0s 47us/step - loss: 0.0402\n",
      "Epoch 16/20\n",
      "300/300 [==============================] - 0s 40us/step - loss: 0.0388\n",
      "Epoch 17/20\n",
      "300/300 [==============================] - 0s 50us/step - loss: 0.0368\n",
      "Epoch 18/20\n",
      "300/300 [==============================] - 0s 40us/step - loss: 0.0352\n",
      "Epoch 19/20\n",
      "300/300 [==============================] - 0s 43us/step - loss: 0.0337\n",
      "Epoch 20/20\n",
      "300/300 [==============================] - 0s 47us/step - loss: 0.0323\n"
     ]
    },
    {
     "data": {
      "text/plain": [
       "<keras.callbacks.History at 0x27b0fbec240>"
      ]
     },
     "execution_count": 7,
     "metadata": {},
     "output_type": "execute_result"
    }
   ],
   "source": [
    "#mini batch\n",
    "minibatch_size=50\n",
    "model.fit(X, Y, epochs=20, batch_size=minibatch_size)"
   ]
  },
  {
   "cell_type": "code",
   "execution_count": 8,
   "metadata": {},
   "outputs": [
    {
     "name": "stdout",
     "output_type": "stream",
     "text": [
      "[2 1 2 1 2 2 0 0 0 0]\n",
      "[[1.21370815e-01 8.77377570e-01 1.25168962e-03]\n",
      " [7.29264684e-08 5.80095612e-02 9.41990376e-01]\n",
      " [4.71717026e-03 9.80791748e-01 1.44910701e-02]\n",
      " [1.48598122e-06 4.10231985e-02 9.58975315e-01]\n",
      " [8.18694224e-10 4.79229400e-03 9.95207727e-01]\n",
      " [9.99088287e-01 9.11697221e-04 4.25364605e-11]\n",
      " [9.96160030e-01 3.83999292e-03 2.07374917e-08]\n",
      " [9.91789222e-01 8.21075030e-03 4.42973160e-08]\n",
      " [9.85739410e-01 1.42605491e-02 3.89322485e-09]]\n"
     ]
    }
   ],
   "source": [
    "X_, Y_ = shuffle(X, Y)\n",
    "classes = model.predict_classes(X_[0:10], batch_size=minibatch_size)\n",
    "prob = model.predict_proba(X_[1:10], batch_size=1)\n",
    "\n",
    "print(classes)\n",
    "print(prob)"
   ]
  }
 ],
 "metadata": {
  "kernelspec": {
   "display_name": "Python 3",
   "language": "python",
   "name": "python3"
  },
  "language_info": {
   "codemirror_mode": {
    "name": "ipython",
    "version": 3
   },
   "file_extension": ".py",
   "mimetype": "text/x-python",
   "name": "python",
   "nbconvert_exporter": "python",
   "pygments_lexer": "ipython3",
   "version": "3.6.7"
  }
 },
 "nbformat": 4,
 "nbformat_minor": 2
}
